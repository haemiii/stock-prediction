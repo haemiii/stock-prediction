{
 "cells": [
  {
   "cell_type": "markdown",
   "metadata": {},
   "source": [
    "# 이 폴더가 깃허브 어떤 브랜치에 있는지 먼저 확인하고 작업할 것  \n",
    "# 삼성전자        131\n",
    "# 현대차         130\n",
    "# POSCO       110\n",
    "# 현대모비스       102\n",
    "# 삼성전자우        87\n",
    "# 한국전력         84\n",
    "# SK하이닉스       83\n",
    "# 신한지주         82\n",
    "# LG화학         76\n",
    "# 삼성생명         60\n",
    "# NAVER        58\n",
    "# 위종목에 대해 2009~2018년 데이터를 수집 후 , 로그 수익률로 변형\n",
    "# 2019년 데이터도 받야야함 "
   ]
  }
 ],
 "metadata": {
  "language_info": {
   "name": "python"
  }
 },
 "nbformat": 4,
 "nbformat_minor": 2
}
