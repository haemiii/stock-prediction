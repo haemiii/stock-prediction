{
 "cells": [
  {
   "cell_type": "code",
   "execution_count": null,
   "metadata": {},
   "outputs": [],
   "source": [
    "# VAR 모형 : 다변량 선형회귀 모형\n",
    "# 1. 정상성 데이터 필요 - 정상성 데이터\n",
    "# 2. Granger 인과관계 - 정상성 데이터\n",
    "# 3. 공적분(Cointegration) - 비정상성 데이터 입력"
   ]
  },
  {
   "cell_type": "code",
   "execution_count": 40,
   "metadata": {},
   "outputs": [],
   "source": [
    "import yfinance as yf\n",
    "import pmdarima as pm\n",
    "import matplotlib.pyplot as plt\n",
    "from matplotlib import rc\n",
    "from sklearn.model_selection import train_test_split\n",
    "from pmdarima.arima import ndiffs\n",
    "from pmdarima.arima import auto_arima\n",
    "from statsmodels.tsa.stattools import adfuller, acf\n",
    "from statsmodels.graphics.tsaplots import plot_acf, plot_pacf\n",
    "from statsmodels.tsa.stattools import grangercausalitytests\n",
    "from statsmodels.tsa.api import VECM\n",
    "\n",
    "import numpy as np\n",
    "import pandas as pd\n",
    "import matplotlib.pyplot as plt\n",
    "import seaborn as sns\n",
    "\n",
    "import statsmodels.api as sm\n",
    "from statsmodels.tsa.api import VAR\n"
   ]
  },
  {
   "cell_type": "code",
   "execution_count": 2,
   "metadata": {},
   "outputs": [],
   "source": [
    "# MacOS - 한글 폰트\n",
    "from matplotlib import rc\n",
    "rc('font', family='AppleGothic')\n",
    "plt.rcParams['axes.unicode_minus'] = False\n"
   ]
  },
  {
   "cell_type": "code",
   "execution_count": 3,
   "metadata": {},
   "outputs": [
    {
     "name": "stdout",
     "output_type": "stream",
     "text": [
      "[*********************100%%**********************]  1 of 1 completed\n",
      "[*********************100%%**********************]  1 of 1 completed\n",
      "[*********************100%%**********************]  1 of 1 completed\n",
      "[*********************100%%**********************]  1 of 1 completed\n",
      "[*********************100%%**********************]  1 of 1 completed\n",
      "[*********************100%%**********************]  1 of 1 completed\n",
      "[*********************100%%**********************]  1 of 1 completed\n",
      "[*********************100%%**********************]  1 of 1 completed\n",
      "[*********************100%%**********************]  1 of 1 completed\n",
      "[*********************100%%**********************]  1 of 1 completed\n"
     ]
    }
   ],
   "source": [
    "# 데이터 수집(시가총액 10위)\n",
    "stocks = ['삼성전자','현대차', 'POSCO', '현대모비스', '한국전력','SK하이닉스', '신한지주', 'LG화학', '삼성생명', 'NAVER']\n",
    "ticker = ['005930', '005380', '005490', '012330', '015760', '000660', '055550', '051915', '032830', '035420']\n",
    "st = {}\n",
    "\n",
    "for i, t in enumerate(ticker):\n",
    "    symbol = t+'.KS'\n",
    "    data = yf.download(symbol , '2009-01-01', '2019-12-31')\n",
    "    st[stocks[i]] = data"
   ]
  },
  {
   "cell_type": "code",
   "execution_count": 22,
   "metadata": {},
   "outputs": [
    {
     "name": "stderr",
     "output_type": "stream",
     "text": [
      "/opt/homebrew/lib/python3.11/site-packages/openpyxl/styles/stylesheet.py:226: UserWarning: Workbook contains no default style, apply openpyxl's default\n",
      "  warn(\"Workbook contains no default style, apply openpyxl's default\")\n"
     ]
    },
    {
     "name": "stdout",
     "output_type": "stream",
     "text": [
      "                   Open         High          Low        Close      Volume\n",
      "Date                                                                      \n",
      "2009-01-02  1578.869995  1636.030029  1571.979980  1632.209961  1438410000\n",
      "2009-01-05  1621.479980  1640.459961  1604.630005  1628.030029  1816580000\n",
      "2009-01-06  1642.369995  1665.630005  1636.250000  1652.380005  2137640000\n",
      "2009-01-07  1621.630005  1625.369995  1588.199951  1599.060059  2020170000\n",
      "2009-01-08  1590.250000  1617.010010  1584.280029  1617.010010  1968160000\n",
      "                  Open        High         Low       Close      Volume\n",
      "Date                                                                  \n",
      "2009-01-02  902.989990  934.729980  899.349976  931.799988  4048270000\n",
      "2009-01-05  929.169983  936.630005  919.530029  927.450012  5413910000\n",
      "2009-01-06  931.169983  943.849976  927.280029  934.700012  5392620000\n",
      "2009-01-07  927.450012  927.450012  902.369995  906.650024  4704940000\n",
      "2009-01-08  905.729980  910.000000  896.809998  909.729980  4991550000\n"
     ]
    }
   ],
   "source": [
    "var_df = pd.DataFrame()\n",
    "var_df['삼성전자'] = st['삼성전자']['Adj Close']\n",
    "\n",
    "# 대차잔고 데이터 수집\n",
    "df = pd.read_excel('./대차잔고.xlsx', names=['Date', '체결(주수)', '상환(주수)', '잔고', '금액'])\n",
    "df = df[3:-2].reset_index(drop=True)\n",
    "df['Date'] = df['Date'].apply(pd.to_datetime)\n",
    "df.set_index('Date', inplace=True)\n",
    "\n",
    "var_df['대차잔고'] = df['금액'].str.replace(',', '').astype(float) * 1000000000\n",
    "\n",
    "# 환율 가져오기\n",
    "import FinanceDataReader as fdr\n",
    "#원달러환율(USD/KRW)\n",
    "df = fdr.DataReader('USD/KRW', \"2009-01-01\", \"2019-12-31\")\n",
    "var_df['환율'] = df['Close']\n",
    "\n",
    "# 구리 데이터 수집\n",
    "df = fdr.DataReader(\"HG=F\", \"2009-01-01\", \"2019-12-31\")\n",
    "var_df['구리'] = df['Close']\n",
    "df.head()\n",
    "\n",
    "# 신용스프레드 = 국채3년물 - 회사채3년물bb(-) (일자별로)\n",
    "df = pd.read_csv('./시장금리(일별)_04175822.csv', names=['국고채(3년)', '회사채(3년, BBB-)'])\n",
    "df = df[1:]\n",
    "df.index = pd.to_datetime(df.index)\n",
    "df = df.astype(float)\n",
    "\n",
    "df['신용스프레드'] = df['회사채(3년, BBB-)'] - df['국고채(3년)']\n",
    "var_df['신용스프레드'] = df['신용스프레드']\n",
    "var_df['국채'] = df['국고채(3년)']\n",
    "df.head()\n",
    "\n",
    "# 나스닥 / S&P 500\n",
    "\n",
    "df_nas = fdr.DataReader('IXIC', '2009-01-01', '2019-12-31')\n",
    "df_sp = fdr.DataReader('S&P500', '2009-01-01', '2019-12-31')\n",
    "\n",
    "var_df['나스닥'] = df_nas['Close']\n",
    "var_df['S&P500'] = df_sp['Close']\n",
    "print(df_nas.head())\n",
    "print(df_sp.head())\n"
   ]
  },
  {
   "cell_type": "code",
   "execution_count": 6,
   "metadata": {},
   "outputs": [
    {
     "data": {
      "text/html": [
       "<div>\n",
       "<style scoped>\n",
       "    .dataframe tbody tr th:only-of-type {\n",
       "        vertical-align: middle;\n",
       "    }\n",
       "\n",
       "    .dataframe tbody tr th {\n",
       "        vertical-align: top;\n",
       "    }\n",
       "\n",
       "    .dataframe thead th {\n",
       "        text-align: right;\n",
       "    }\n",
       "</style>\n",
       "<table border=\"1\" class=\"dataframe\">\n",
       "  <thead>\n",
       "    <tr style=\"text-align: right;\">\n",
       "      <th></th>\n",
       "      <th>삼성전자</th>\n",
       "      <th>대차잔고</th>\n",
       "      <th>환율</th>\n",
       "      <th>구리</th>\n",
       "      <th>신용스프레드</th>\n",
       "      <th>국채</th>\n",
       "      <th>나스닥</th>\n",
       "      <th>S&amp;P500</th>\n",
       "    </tr>\n",
       "    <tr>\n",
       "      <th>Date</th>\n",
       "      <th></th>\n",
       "      <th></th>\n",
       "      <th></th>\n",
       "      <th></th>\n",
       "      <th></th>\n",
       "      <th></th>\n",
       "      <th></th>\n",
       "      <th></th>\n",
       "    </tr>\n",
       "  </thead>\n",
       "  <tbody>\n",
       "    <tr>\n",
       "      <th>2009-01-02</th>\n",
       "      <td>7192.034180</td>\n",
       "      <td>1.101600e+13</td>\n",
       "      <td>1322.500000</td>\n",
       "      <td>1.4440</td>\n",
       "      <td>8.62</td>\n",
       "      <td>3.42</td>\n",
       "      <td>1632.209961</td>\n",
       "      <td>931.799988</td>\n",
       "    </tr>\n",
       "    <tr>\n",
       "      <th>2009-01-05</th>\n",
       "      <td>7283.844727</td>\n",
       "      <td>1.286200e+13</td>\n",
       "      <td>1307.800049</td>\n",
       "      <td>1.4420</td>\n",
       "      <td>8.52</td>\n",
       "      <td>3.35</td>\n",
       "      <td>1628.030029</td>\n",
       "      <td>927.450012</td>\n",
       "    </tr>\n",
       "    <tr>\n",
       "      <th>2009-01-06</th>\n",
       "      <td>7620.496582</td>\n",
       "      <td>1.321200e+13</td>\n",
       "      <td>1304.400024</td>\n",
       "      <td>1.5660</td>\n",
       "      <td>8.51</td>\n",
       "      <td>3.34</td>\n",
       "      <td>1652.380005</td>\n",
       "      <td>934.700012</td>\n",
       "    </tr>\n",
       "    <tr>\n",
       "      <th>2009-01-07</th>\n",
       "      <td>8018.351074</td>\n",
       "      <td>1.379100e+13</td>\n",
       "      <td>1301.000000</td>\n",
       "      <td>1.4945</td>\n",
       "      <td>8.45</td>\n",
       "      <td>3.45</td>\n",
       "      <td>1599.060059</td>\n",
       "      <td>906.650024</td>\n",
       "    </tr>\n",
       "    <tr>\n",
       "      <th>2009-01-08</th>\n",
       "      <td>7773.516602</td>\n",
       "      <td>1.361200e+13</td>\n",
       "      <td>1330.400024</td>\n",
       "      <td>1.4630</td>\n",
       "      <td>8.44</td>\n",
       "      <td>3.26</td>\n",
       "      <td>1617.010010</td>\n",
       "      <td>909.729980</td>\n",
       "    </tr>\n",
       "  </tbody>\n",
       "</table>\n",
       "</div>"
      ],
      "text/plain": [
       "                   삼성전자          대차잔고           환율      구리  신용스프레드    국채  \\\n",
       "Date                                                                       \n",
       "2009-01-02  7192.034180  1.101600e+13  1322.500000  1.4440    8.62  3.42   \n",
       "2009-01-05  7283.844727  1.286200e+13  1307.800049  1.4420    8.52  3.35   \n",
       "2009-01-06  7620.496582  1.321200e+13  1304.400024  1.5660    8.51  3.34   \n",
       "2009-01-07  8018.351074  1.379100e+13  1301.000000  1.4945    8.45  3.45   \n",
       "2009-01-08  7773.516602  1.361200e+13  1330.400024  1.4630    8.44  3.26   \n",
       "\n",
       "                    나스닥      S&P500  \n",
       "Date                                 \n",
       "2009-01-02  1632.209961  931.799988  \n",
       "2009-01-05  1628.030029  927.450012  \n",
       "2009-01-06  1652.380005  934.700012  \n",
       "2009-01-07  1599.060059  906.650024  \n",
       "2009-01-08  1617.010010  909.729980  "
      ]
     },
     "execution_count": 6,
     "metadata": {},
     "output_type": "execute_result"
    }
   ],
   "source": [
    "var_df.head()"
   ]
  },
  {
   "cell_type": "code",
   "execution_count": 1,
   "metadata": {},
   "outputs": [
    {
     "ename": "NameError",
     "evalue": "name 'var_df' is not defined",
     "output_type": "error",
     "traceback": [
      "\u001b[0;31m---------------------------------------------------------------------------\u001b[0m",
      "\u001b[0;31mNameError\u001b[0m                                 Traceback (most recent call last)",
      "Cell \u001b[0;32mIn[1], line 1\u001b[0m\n\u001b[0;32m----> 1\u001b[0m \u001b[43mvar_df\u001b[49m\u001b[38;5;241m.\u001b[39mplot()\n",
      "\u001b[0;31mNameError\u001b[0m: name 'var_df' is not defined"
     ]
    }
   ],
   "source": [
    "var_df.plot()"
   ]
  },
  {
   "cell_type": "code",
   "execution_count": 131,
   "metadata": {},
   "outputs": [
    {
     "name": "stderr",
     "output_type": "stream",
     "text": [
      "/var/folders/1s/73zrjgnx2w19qtc6h3mxcwxh0000gn/T/ipykernel_8552/235884001.py:3: FutureWarning: DataFrame.fillna with 'method' is deprecated and will raise in a future version. Use obj.ffill() or obj.bfill() instead.\n",
      "  df = df.fillna(method='ffill')\n"
     ]
    }
   ],
   "source": [
    "df = var_df.copy()\n",
    "df = df[1:]\n",
    "df = df.fillna(method='ffill')"
   ]
  },
  {
   "cell_type": "code",
   "execution_count": 24,
   "metadata": {},
   "outputs": [
    {
     "data": {
      "text/plain": [
       "삼성전자      0\n",
       "대차잔고      0\n",
       "환율        0\n",
       "구리        0\n",
       "신용스프레드    0\n",
       "국채        0\n",
       "나스닥       0\n",
       "S&P500    0\n",
       "dtype: int64"
      ]
     },
     "execution_count": 24,
     "metadata": {},
     "output_type": "execute_result"
    }
   ],
   "source": [
    "df.isna().sum()"
   ]
  },
  {
   "cell_type": "code",
   "execution_count": 132,
   "metadata": {},
   "outputs": [
    {
     "name": "stdout",
     "output_type": "stream",
     "text": [
      "8.639174725711054e-21\n",
      "0.0\n",
      "0.0030826094558552156\n",
      "0.0\n",
      "3.111923285455188e-06\n",
      "5.348717691148083e-21\n",
      "0.0\n",
      "0.0\n"
     ]
    }
   ],
   "source": [
    "# 1. 단위근 검정\n",
    "\n",
    "# adf 검정\n",
    "for i in df:\n",
    "    result = adfuller(df[i])\n",
    "    if result[1] >= 0.05:\n",
    "        # 차분 진행\n",
    "        n = ndiffs(df[i])\n",
    "        df[i] = df[i].diff(n)\n",
    "df.dropna(inplace=True)\n",
    "for j in df:\n",
    "    result = adfuller(df[j])\n",
    "    print(result[1])"
   ]
  },
  {
   "cell_type": "code",
   "execution_count": 37,
   "metadata": {},
   "outputs": [
    {
     "name": "stdout",
     "output_type": "stream",
     "text": [
      "\n",
      "Granger Causality\n",
      "number of lags (no zero) 1\n",
      "ssr based F test:         F=4.4750  , p=0.0345  , df_denom=2712, df_num=1\n",
      "ssr based chi2 test:   chi2=4.4799  , p=0.0343  , df=1\n",
      "likelihood ratio test: chi2=4.4763  , p=0.0344  , df=1\n",
      "parameter F test:         F=4.4750  , p=0.0345  , df_denom=2712, df_num=1\n",
      "\n",
      "Granger Causality\n",
      "number of lags (no zero) 2\n",
      "ssr based F test:         F=2.9374  , p=0.0532  , df_denom=2709, df_num=2\n",
      "ssr based chi2 test:   chi2=5.8856  , p=0.0527  , df=2\n",
      "likelihood ratio test: chi2=5.8792  , p=0.0529  , df=2\n",
      "parameter F test:         F=2.9374  , p=0.0532  , df_denom=2709, df_num=2\n",
      "\n",
      "Granger Causality\n",
      "number of lags (no zero) 1\n",
      "ssr based F test:         F=18.7150 , p=0.0000  , df_denom=2712, df_num=1\n",
      "ssr based chi2 test:   chi2=18.7357 , p=0.0000  , df=1\n",
      "likelihood ratio test: chi2=18.6713 , p=0.0000  , df=1\n",
      "parameter F test:         F=18.7150 , p=0.0000  , df_denom=2712, df_num=1\n",
      "\n",
      "Granger Causality\n",
      "number of lags (no zero) 2\n",
      "ssr based F test:         F=16.0097 , p=0.0000  , df_denom=2709, df_num=2\n",
      "ssr based chi2 test:   chi2=32.0784 , p=0.0000  , df=2\n",
      "likelihood ratio test: chi2=31.8903 , p=0.0000  , df=2\n",
      "parameter F test:         F=16.0097 , p=0.0000  , df_denom=2709, df_num=2\n",
      "\n",
      "Granger Causality\n",
      "number of lags (no zero) 3\n",
      "ssr based F test:         F=11.4754 , p=0.0000  , df_denom=2706, df_num=3\n",
      "ssr based chi2 test:   chi2=34.5153 , p=0.0000  , df=3\n",
      "likelihood ratio test: chi2=34.2976 , p=0.0000  , df=3\n",
      "parameter F test:         F=11.4754 , p=0.0000  , df_denom=2706, df_num=3\n",
      "\n",
      "Granger Causality\n",
      "number of lags (no zero) 4\n",
      "ssr based F test:         F=8.9939  , p=0.0000  , df_denom=2703, df_num=4\n",
      "ssr based chi2 test:   chi2=36.0954 , p=0.0000  , df=4\n",
      "likelihood ratio test: chi2=35.8573 , p=0.0000  , df=4\n",
      "parameter F test:         F=8.9939  , p=0.0000  , df_denom=2703, df_num=4\n",
      "{1: ({'ssr_ftest': (4.474995033608254, 0.03448524414216691, 2712.0, 1), 'ssr_chi2test': (4.4799452493533956, 0.0342948196576118, 1), 'lrtest': (4.476253194312449, 0.03436898902662665, 1), 'params_ftest': (4.474995033608003, 0.03448524414216691, 2712.0, 1.0)}, [<statsmodels.regression.linear_model.RegressionResultsWrapper object at 0x17d21ef90>, <statsmodels.regression.linear_model.RegressionResultsWrapper object at 0x17d21e190>, array([[0., 1., 0.]])]), 2: ({'ssr_ftest': (2.9373753046328983, 0.05317351214539391, 2709.0, 2), 'ssr_chi2test': (5.885593633646132, 0.05271807954896457, 2), 'lrtest': (5.879221081486321, 0.05288632179559518, 2), 'params_ftest': (2.93737530463228, 0.05317351214543202, 2709.0, 2.0)}, [<statsmodels.regression.linear_model.RegressionResultsWrapper object at 0x17d5e9e50>, <statsmodels.regression.linear_model.RegressionResultsWrapper object at 0x17d5e9410>, array([[0., 0., 1., 0., 0.],\n",
      "       [0., 0., 0., 1., 0.]])])} {1: ({'ssr_ftest': (18.71495821157313, 1.572744982048327e-05, 2712.0, 1), 'ssr_chi2test': (18.73566059897531, 1.5014814583586333e-05, 1), 'lrtest': (18.671310987716424, 1.553016813913965e-05, 1), 'params_ftest': (18.714958211575095, 1.5727449820463044e-05, 2712.0, 1.0)}, [<statsmodels.regression.linear_model.RegressionResultsWrapper object at 0x17d724490>, <statsmodels.regression.linear_model.RegressionResultsWrapper object at 0x17d725790>, array([[0., 1., 0.]])]), 2: ({'ssr_ftest': (16.009666491935445, 1.2242203678799717e-07, 2709.0, 2), 'ssr_chi2test': (32.07843105139372, 1.0820746008854596e-07, 2), 'lrtest': (31.89033442515938, 1.1887810309420175e-07, 2), 'params_ftest': (16.009666491939605, 1.2242203678747264e-07, 2709.0, 2.0)}, [<statsmodels.regression.linear_model.RegressionResultsWrapper object at 0x17d5e9f10>, <statsmodels.regression.linear_model.RegressionResultsWrapper object at 0x17d5e88d0>, array([[0., 0., 1., 0., 0.],\n",
      "       [0., 0., 0., 1., 0.]])]), 3: ({'ssr_ftest': (11.475428156358587, 1.7841817808036494e-07, 2706.0, 3), 'ssr_chi2test': (34.515339898227104, 1.5420972977523579e-07, 3), 'lrtest': (34.297628862761485, 1.7142997234162228e-07, 3), 'params_ftest': (11.475428156358356, 1.784181780803868e-07, 2706.0, 3.0)}, [<statsmodels.regression.linear_model.RegressionResultsWrapper object at 0x17d5ea610>, <statsmodels.regression.linear_model.RegressionResultsWrapper object at 0x17d282610>, array([[0., 0., 0., 1., 0., 0., 0.],\n",
      "       [0., 0., 0., 0., 1., 0., 0.],\n",
      "       [0., 0., 0., 0., 0., 1., 0.]])]), 4: ({'ssr_ftest': (8.993902729570365, 3.2550867994021624e-07, 2703.0, 4), 'ssr_chi2test': (36.095396526222466, 2.7658379801929516e-07, 4), 'lrtest': (35.85730076862092, 3.096033989713087e-07, 4), 'params_ftest': (8.993902729569875, 3.255086799405088e-07, 2703.0, 4.0)}, [<statsmodels.regression.linear_model.RegressionResultsWrapper object at 0x17d560090>, <statsmodels.regression.linear_model.RegressionResultsWrapper object at 0x17d562950>, array([[0., 0., 0., 0., 1., 0., 0., 0., 0.],\n",
      "       [0., 0., 0., 0., 0., 1., 0., 0., 0.],\n",
      "       [0., 0., 0., 0., 0., 0., 1., 0., 0.],\n",
      "       [0., 0., 0., 0., 0., 0., 0., 1., 0.]])])}\n"
     ]
    }
   ],
   "source": [
    "# 2. 그랜저 인과검정 \n",
    "# Y를 예측하기 위해서 Y의 과거치와 함께 변수 X를 추가할 경우 Y 예측력이 향상되면 \n",
    "# 변수 X는 변수 Y에 대한 그랜저 인과관계를 가진다.\n",
    "\n",
    "result1 = grangercausalitytests(df[['삼성전자', '환율']], maxlag=2)\n",
    "result2 = grangercausalitytests(df[['환율', '삼성전자']], maxlag=4)\n",
    "print(result1, result2)"
   ]
  },
  {
   "cell_type": "code",
   "execution_count": 38,
   "metadata": {},
   "outputs": [
    {
     "data": {
      "text/plain": [
       "(-3.841659204521251,\n",
       " 0.01191758818714077,\n",
       " array([-3.9004784 , -3.33838142, -3.04601251]))"
      ]
     },
     "execution_count": 38,
     "metadata": {},
     "output_type": "execute_result"
    }
   ],
   "source": [
    "# 3. 공적분 검정\n",
    "\n",
    "sm.tsa.coint(df['환율'], df['삼성전자']) "
   ]
  },
  {
   "cell_type": "code",
   "execution_count": 41,
   "metadata": {},
   "outputs": [
    {
     "name": "stdout",
     "output_type": "stream",
     "text": [
      "Det. terms outside the coint. relation & lagged endog. parameters for equation 환율\n",
      "==============================================================================\n",
      "                 coef    std err          z      P>|z|      [0.025      0.975]\n",
      "------------------------------------------------------------------------------\n",
      "L1.환율         -0.2238      0.019    -11.904      0.000      -0.261      -0.187\n",
      "L1.삼성전자        0.0005      0.000      1.147      0.251      -0.000       0.001\n",
      "Det. terms outside the coint. relation & lagged endog. parameters for equation 삼성전자\n",
      "==============================================================================\n",
      "                 coef    std err          z      P>|z|      [0.025      0.975]\n",
      "------------------------------------------------------------------------------\n",
      "L1.환율         -0.9246      0.870     -1.063      0.288      -2.630       0.781\n",
      "L1.삼성전자        0.0381      0.019      1.976      0.048       0.000       0.076\n",
      "                 Loading coefficients (alpha) for equation 환율                 \n",
      "==============================================================================\n",
      "                 coef    std err          z      P>|z|      [0.025      0.975]\n",
      "------------------------------------------------------------------------------\n",
      "ec1         3.883e-05   8.01e-06      4.846      0.000    2.31e-05    5.45e-05\n",
      "                Loading coefficients (alpha) for equation 삼성전자                \n",
      "==============================================================================\n",
      "                 coef    std err          z      P>|z|      [0.025      0.975]\n",
      "------------------------------------------------------------------------------\n",
      "ec1            0.0139      0.000     37.482      0.000       0.013       0.015\n",
      "          Cointegration relations for loading-coefficients-column 1           \n",
      "==============================================================================\n",
      "                 coef    std err          z      P>|z|      [0.025      0.975]\n",
      "------------------------------------------------------------------------------\n",
      "beta.1         1.0000          0          0      0.000       1.000       1.000\n",
      "beta.2       -72.6387      1.885    -38.532      0.000     -76.334     -68.944\n",
      "==============================================================================\n"
     ]
    },
    {
     "name": "stderr",
     "output_type": "stream",
     "text": [
      "/opt/homebrew/lib/python3.11/site-packages/statsmodels/tsa/base/tsa_model.py:473: ValueWarning: A date index has been provided, but it has no associated frequency information and so will be ignored when e.g. forecasting.\n",
      "  self._init_dates(dates, freq)\n"
     ]
    }
   ],
   "source": [
    "vecm_model = VECM(df[['환율', '삼성전자']], k_ar_diff=1)\n",
    "\n",
    "# 모델 적합\n",
    "vecm_result = vecm_model.fit()\n",
    "\n",
    "# 모델 요약 정보 출력\n",
    "print(vecm_result.summary())"
   ]
  },
  {
   "cell_type": "code",
   "execution_count": 59,
   "metadata": {},
   "outputs": [
    {
     "data": {
      "text/plain": [
       "array([[  19.61769078, 1300.71839562],\n",
       "       [ -30.74832495, 1324.25657322],\n",
       "       [   1.9589483 , 1347.64096575],\n",
       "       ...,\n",
       "       [  18.51823721, 1162.37732713],\n",
       "       [  45.1227596 , 1159.57329249],\n",
       "       [  38.22608467, 1157.66053457]])"
      ]
     },
     "execution_count": 59,
     "metadata": {},
     "output_type": "execute_result"
    }
   ],
   "source": [
    "result_fitted"
   ]
  },
  {
   "cell_type": "code",
   "execution_count": 115,
   "metadata": {},
   "outputs": [
    {
     "name": "stdout",
     "output_type": "stream",
     "text": [
      "[ 9.77391072 -9.22786019  9.99055043 11.15374585 10.26870893 10.18642947\n",
      " 10.22993532 10.23443179 10.23247917 10.23219941 10.23229428 10.2323088\n",
      " 10.23230468 10.23230383 10.23230403 10.23230407 10.23230407 10.23230406\n",
      " 10.23230406 10.23230406 10.23230406 10.23230406 10.23230406 10.23230406\n",
      " 10.23230406 10.23230406 10.23230406 10.23230406 10.23230406 10.23230406\n",
      " 10.23230406 10.23230406 10.23230406 10.23230406 10.23230406 10.23230406\n",
      " 10.23230406 10.23230406 10.23230406 10.23230406 10.23230406 10.23230406\n",
      " 10.23230406 10.23230406 10.23230406 10.23230406 10.23230406 10.23230406\n",
      " 10.23230406 10.23230406 10.23230406 10.23230406 10.23230406 10.23230406\n",
      " 10.23230406 10.23230406 10.23230406 10.23230406 10.23230406 10.23230406\n",
      " 10.23230406 10.23230406 10.23230406 10.23230406 10.23230406 10.23230406\n",
      " 10.23230406 10.23230406 10.23230406 10.23230406 10.23230406 10.23230406\n",
      " 10.23230406 10.23230406 10.23230406 10.23230406 10.23230406 10.23230406\n",
      " 10.23230406 10.23230406 10.23230406 10.23230406 10.23230406 10.23230406\n",
      " 10.23230406 10.23230406 10.23230406 10.23230406 10.23230406 10.23230406\n",
      " 10.23230406 10.23230406 10.23230406 10.23230406 10.23230406 10.23230406\n",
      " 10.23230406 10.23230406 10.23230406 10.23230406 10.23230406 10.23230406\n",
      " 10.23230406 10.23230406 10.23230406 10.23230406 10.23230406 10.23230406\n",
      " 10.23230406 10.23230406 10.23230406 10.23230406 10.23230406 10.23230406\n",
      " 10.23230406 10.23230406 10.23230406 10.23230406 10.23230406 10.23230406\n",
      " 10.23230406 10.23230406 10.23230406 10.23230406 10.23230406 10.23230406\n",
      " 10.23230406 10.23230406 10.23230406 10.23230406 10.23230406 10.23230406\n",
      " 10.23230406 10.23230406 10.23230406 10.23230406 10.23230406 10.23230406\n",
      " 10.23230406 10.23230406 10.23230406 10.23230406 10.23230406 10.23230406\n",
      " 10.23230406 10.23230406 10.23230406 10.23230406 10.23230406 10.23230406\n",
      " 10.23230406 10.23230406 10.23230406 10.23230406 10.23230406 10.23230406\n",
      " 10.23230406 10.23230406 10.23230406 10.23230406 10.23230406 10.23230406\n",
      " 10.23230406 10.23230406 10.23230406 10.23230406 10.23230406 10.23230406\n",
      " 10.23230406 10.23230406 10.23230406 10.23230406 10.23230406 10.23230406\n",
      " 10.23230406 10.23230406 10.23230406 10.23230406 10.23230406 10.23230406\n",
      " 10.23230406 10.23230406 10.23230406 10.23230406 10.23230406 10.23230406\n",
      " 10.23230406 10.23230406 10.23230406 10.23230406 10.23230406 10.23230406\n",
      " 10.23230406 10.23230406 10.23230406 10.23230406 10.23230406 10.23230406\n",
      " 10.23230406 10.23230406 10.23230406 10.23230406 10.23230406 10.23230406\n",
      " 10.23230406 10.23230406 10.23230406 10.23230406 10.23230406 10.23230406\n",
      " 10.23230406 10.23230406 10.23230406 10.23230406 10.23230406 10.23230406\n",
      " 10.23230406 10.23230406 10.23230406 10.23230406 10.23230406 10.23230406\n",
      " 10.23230406 10.23230406 10.23230406 10.23230406 10.23230406 10.23230406\n",
      " 10.23230406 10.23230406 10.23230406 10.23230406 10.23230406 10.23230406\n",
      " 10.23230406 10.23230406 10.23230406 10.23230406 10.23230406 10.23230406\n",
      " 10.23230406 10.23230406 10.23230406 10.23230406 10.23230406 10.23230406]\n"
     ]
    },
    {
     "name": "stderr",
     "output_type": "stream",
     "text": [
      "/opt/homebrew/lib/python3.11/site-packages/statsmodels/tsa/base/tsa_model.py:473: ValueWarning: A date index has been provided, but it has no associated frequency information and so will be ignored when e.g. forecasting.\n",
      "  self._init_dates(dates, freq)\n"
     ]
    },
    {
     "data": {
      "image/png": "[encoded data removed]",
      "text/plain": [
       "<Figure size 1200x600 with 1 Axes>"
      ]
     },
     "metadata": {},
     "output_type": "display_data"
    },
    {
     "name": "stdout",
     "output_type": "stream",
     "text": [
      "RMSE: 35259.189745693446\n"
     ]
    }
   ],
   "source": [
    "import pandas as pd\n",
    "from statsmodels.tsa.api import VECM\n",
    "import matplotlib.pyplot as plt\n",
    "from sklearn.metrics import mean_squared_error\n",
    "from math import sqrt\n",
    "\n",
    "# 데이터 불러오기 (가정)\n",
    "# df는 삼성전자 주가와 환율을 포함하는 데이터프레임이라고 가정합니다.\n",
    "# df의 인덱스는 시계열 데이터의 날짜여야 합니다.\n",
    "\n",
    "\n",
    "# 데이터 분할 (가정)\n",
    "train_data = df['2009-01-01':'2018-12-31']\n",
    "test_data = df['2019-01-01':]\n",
    "\n",
    "\n",
    "# VECM 모델 구축\n",
    "model = VECM(train_data[['삼성전자', '환율']], k_ar_diff=1)\n",
    "result = model.fit()\n",
    "\n",
    "# 모델 훈련\n",
    "result_fitted = result.fittedvalues\n",
    "\n",
    "# 예측\n",
    "forecast_steps = len(test_data)\n",
    "forecast_diff = result.predict(steps=forecast_steps)\n",
    "print(forecast_diff[:,0])\n",
    "\n",
    "# 차분을 원래 스케일로 되돌리기\n",
    "forecast_samsung = np.r_[var_df['삼성전자']['2009-01-01':'2018-12-31'].iloc[-1],\n",
    "                            forecast_diff[:, 0]].cumsum()[1:]\n",
    "\n",
    "forecast_samsung = pd.DataFrame(forecast_samsung, index=test_data.index)\n",
    "# 예측 결과 시각화\n",
    "plt.figure(figsize=(12, 6))\n",
    "plt.plot(var_df['삼성전자'], label='Train Data')\n",
    "plt.plot(forecast_samsung, label='Predicted Test Data')\n",
    "plt.legend()\n",
    "plt.title('삼성전자 주가 예측')\n",
    "plt.show()\n",
    "\n",
    "# 정확도 측정 (예시로 평균 제곱근 오차 사용)\n",
    "rmse = sqrt(mean_squared_error(test_data['삼성전자'], forecast_samsung))\n",
    "print(f'RMSE: {rmse}')\n",
    "\n"
   ]
  },
  {
   "cell_type": "code",
   "execution_count": 171,
   "metadata": {},
   "outputs": [
    {
     "name": "stderr",
     "output_type": "stream",
     "text": [
      "/opt/homebrew/lib/python3.11/site-packages/statsmodels/tsa/base/tsa_model.py:473: ValueWarning: A date index has been provided, but it has no associated frequency information and so will be ignored when e.g. forecasting.\n",
      "  self._init_dates(dates, freq)\n"
     ]
    },
    {
     "ename": "ValueError",
     "evalue": "could not broadcast input array from shape (2,2) into shape (2,)",
     "output_type": "error",
     "traceback": [
      "\u001b[0;31m---------------------------------------------------------------------------\u001b[0m",
      "\u001b[0;31mValueError\u001b[0m                                Traceback (most recent call last)",
      "Cell \u001b[0;32mIn[171], line 29\u001b[0m\n\u001b[1;32m     26\u001b[0m forecast_steps \u001b[38;5;241m=\u001b[39m \u001b[38;5;28mlen\u001b[39m(test_data)\n\u001b[1;32m     28\u001b[0m \u001b[38;5;66;03m# 삼성전자 주가만 예측\u001b[39;00m\n\u001b[0;32m---> 29\u001b[0m forecast \u001b[38;5;241m=\u001b[39m \u001b[43mresult\u001b[49m\u001b[38;5;241;43m.\u001b[39;49m\u001b[43mforecast\u001b[49m\u001b[43m(\u001b[49m\u001b[43my\u001b[49m\u001b[38;5;241;43m=\u001b[39;49m\u001b[43mtrain_data\u001b[49m\u001b[43m[\u001b[49m\u001b[38;5;124;43m'\u001b[39;49m\u001b[38;5;124;43m삼성전자\u001b[39;49m\u001b[38;5;124;43m'\u001b[39;49m\u001b[43m]\u001b[49m\u001b[38;5;241;43m.\u001b[39;49m\u001b[43mvalues\u001b[49m\u001b[43m,\u001b[49m\u001b[43msteps\u001b[49m\u001b[38;5;241;43m=\u001b[39;49m\u001b[43mforecast_steps\u001b[49m\u001b[43m)\u001b[49m\n\u001b[1;32m     31\u001b[0m \u001b[38;5;66;03m# 예측 결과 시각화\u001b[39;00m\n\u001b[1;32m     32\u001b[0m plt\u001b[38;5;241m.\u001b[39mfigure(figsize\u001b[38;5;241m=\u001b[39m(\u001b[38;5;241m12\u001b[39m, \u001b[38;5;241m6\u001b[39m))\n",
      "File \u001b[0;32m/opt/homebrew/lib/python3.11/site-packages/statsmodels/tsa/vector_ar/var_model.py:1177\u001b[0m, in \u001b[0;36mVARProcess.forecast\u001b[0;34m(self, y, steps, exog_future)\u001b[0m\n\u001b[1;32m   1175\u001b[0m \u001b[39melse\u001b[39;00m:\n\u001b[1;32m   1176\u001b[0m     exog_future \u001b[39m=\u001b[39m np\u001b[39m.\u001b[39mcolumn_stack(exogs)\n\u001b[0;32m-> 1177\u001b[0m \u001b[39mreturn\u001b[39;00m forecast(y, \u001b[39mself\u001b[39;49m\u001b[39m.\u001b[39;49mcoefs, trend_coefs, steps, exog_future)\n",
      "File \u001b[0;32m/opt/homebrew/lib/python3.11/site-packages/statsmodels/tsa/vector_ar/var_model.py:264\u001b[0m, in \u001b[0;36mforecast\u001b[0;34m(y, coefs, trend_coefs, steps, exog)\u001b[0m\n\u001b[1;32m    261\u001b[0m         \u001b[39m# i=1 is coefs[0]\u001b[39;00m\n\u001b[1;32m    262\u001b[0m         f \u001b[39m=\u001b[39m f \u001b[39m+\u001b[39m np\u001b[39m.\u001b[39mdot(coefs[i \u001b[39m-\u001b[39m \u001b[39m1\u001b[39m], prior_y)\n\u001b[0;32m--> 264\u001b[0m     forcs[h \u001b[39m-\u001b[39;49m \u001b[39m1\u001b[39;49m] \u001b[39m=\u001b[39m f\n\u001b[1;32m    266\u001b[0m \u001b[39mreturn\u001b[39;00m forcs\n",
      "\u001b[0;31mValueError\u001b[0m: could not broadcast input array from shape (2,2) into shape (2,)"
     ]
    }
   ],
   "source": [
    "import pandas as pd\n",
    "from statsmodels.tsa.api import VAR\n",
    "import matplotlib.pyplot as plt\n",
    "from sklearn.metrics import mean_squared_error\n",
    "from math import sqrt\n",
    "\n",
    "# 데이터 불러오기 (가정)\n",
    "# df는 삼성전자 주가와 환율을 포함하는 데이터프레임이라고 가정합니다.\n",
    "# df의 인덱스는 시계열 데이터의 날짜여야 합니다.\n",
    "\n",
    "\n",
    "# 데이터 분할 (가정)\n",
    "train_data = df['2009-01-01':'2018-12-31']\n",
    "test_data = df['2019-01-01':]\n",
    "\n",
    "\n",
    "# VAR 모델 구축\n",
    "model = VAR(train_data[['삼성전자', '환율']])\n",
    "result = model.fit()\n",
    "\n",
    "# 모델 훈련\n",
    "result_fitted = result.fittedvalues\n",
    "\n",
    "# 예측\n",
    "\n",
    "forecast_steps = len(test_data)\n",
    "\n",
    "# 삼성전자 주가만 예측\n",
    "forecast = result.forecast(y=train_data['삼성전자'].values,steps=forecast_steps)\n",
    "\n",
    "# 예측 결과 시각화\n",
    "plt.figure(figsize=(12, 6))\n",
    "plt.plot(train_data['삼성전자'], label='Train Data')\n",
    "plt.plot(test_data['삼성전자'], label='Test Data')\n",
    "plt.plot(forecast['삼성전자'], label='Predicted Test Data')\n",
    "plt.legend()\n",
    "plt.title('삼성전자 주가 예측')\n",
    "plt.show()\n",
    "\n",
    "# 정확도 측정 (예시로 평균 제곱근 오차 사용)\n",
    "rmse = sqrt(mean_squared_error(test_data['삼성전자'], forecast['삼성전자']))\n",
    "print(f'RMSE: {rmse}')\n"
   ]
  }
 ],
 "metadata": {
  "kernelspec": {
   "display_name": "Python 3.11.6 64-bit",
   "language": "python",
   "name": "python3"
  },
  "language_info": {
   "codemirror_mode": {
    "name": "ipython",
    "version": 3
   },
   "file_extension": ".py",
   "mimetype": "text/x-python",
   "name": "python",
   "nbconvert_exporter": "python",
   "pygments_lexer": "ipython3",
   "version": "3.11.6"
  },
  "orig_nbformat": 4,
  "vscode": {
   "interpreter": {
    "hash": "b0fa6594d8f4cbf19f97940f81e996739fb7646882a419484c72d19e05852a7e"
   }
  }
 },
 "nbformat": 4,
 "nbformat_minor": 2
}
